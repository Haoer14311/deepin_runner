{
 "cells": [
  {
   "cell_type": "markdown",
   "metadata": {},
   "source": [
    "# 1.   install the Archive（压缩包）.tar \n",
    "\n",
    "-    解压文件（Unzip） =》文件夹（folder）"
   ]
  },
  {
   "cell_type": "markdown",
   "metadata": {},
   "source": [
    "*在deepin中安装压缩包软件，                                                                                      \n",
    "    1  下载压缩包，                                                                                \n",
    "    2   解压到一个地方,  \n",
    "3    打开终端，把解压文件夹（folder）地址（address）复制                                                                                                          \n",
    "4   在终端输入（enter）【**cd 粘贴文件夹（folder）地址（address）**】，回车（enter）*。"
   ]
  },
  {
   "cell_type": "markdown",
   "metadata": {},
   "source": [
    "# 此时，终端已经进入文件夹。"
   ]
  },
  {
   "cell_type": "markdown",
   "metadata": {},
   "source": [
    "# 2.配置构建文件\n",
    "\n",
    "\n",
    "- 输入（enter）**【./configure --enable-optimizations】**\n",
    "，回车（enter）\n"
   ]
  },
  {
   "cell_type": "markdown",
   "metadata": {},
   "source": [
    "# 3.安装\n",
    "\n",
    "- 输入（enter） **【make -j8 && sudo make altinstall】**   ，回车（enter）。"
   ]
  },
  {
   "cell_type": "markdown",
   "metadata": {},
   "source": [
    "# 4.收尾工作（清理无用文件）\n",
    "\n",
    "输入（enter）  **【sudo make clean】**回车（enter）。"
   ]
  }
 ],
 "metadata": {
  "kernelspec": {
   "display_name": "Python 3",
   "language": "python",
   "name": "python3"
  },
  "language_info": {
   "codemirror_mode": {
    "name": "ipython",
    "version": 3
   },
   "file_extension": ".py",
   "mimetype": "text/x-python",
   "name": "python",
   "nbconvert_exporter": "python",
   "pygments_lexer": "ipython3",
   "version": "3.7.4"
  }
 },
 "nbformat": 4,
 "nbformat_minor": 2
}
